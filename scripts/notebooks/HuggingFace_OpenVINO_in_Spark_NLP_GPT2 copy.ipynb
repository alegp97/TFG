{
  "cells": [
    {
      "cell_type": "markdown",
      "metadata": {
        "id": "_V5XcDCnVgSi"
      },
      "source": [
        "![JohnSnowLabs](https://sparknlp.org/assets/images/logo.png)\n",
        "\n",
        "[![Open In Colab](https://colab.research.google.com/assets/colab-badge.svg)](https://colab.research.google.com/github/JohnSnowLabs/spark-nlp/blob/master/examples/python/transformers/openvino/HuggingFace_OpenVINO_in_Spark_NLP_Bart.ipynb)\n",
        "\n",
        "# Import OpenVINO GPT2  models from HuggingFace 🤗 into Spark NLP 🚀\n",
        "\n",
        "This notebook provides a detailed walkthrough on optimizing and exporting BGE models from HuggingFace for use in Spark NLP, leveraging the various tools provided in the [Intel OpenVINO toolkit](https://www.intel.com/content/www/us/en/developer/tools/openvino-toolkit/overview.html) ecosystem.\n",
        "\n",
        "Let's keep in mind a few things before we start 😊\n",
        "\n",
        "- OpenVINO support was introduced in  `Spark NLP 5.4.0`, enabling high performance inference for models. Please make sure you have upgraded to the latest Spark NLP release.\n"
      ]
    },
    {
      "cell_type": "markdown",
      "metadata": {
        "id": "aghasVppVgSk"
      },
      "source": [
        "## 1. Export and Save the HuggingFace model"
      ]
    },
    {
      "cell_type": "markdown",
      "metadata": {
        "id": "be4HsTDMVgSk"
      },
      "source": [
        "- Let's install `transformers` and `openvino` packages with other dependencies. You don't need `openvino` to be installed for Spark NLP, however, we need it to load and save models from HuggingFace.\n",
        "- We lock `transformers` on version `4.41.2`. This doesn't mean it won't work with the future releases, but we wanted you to know which versions have been tested successfully."
      ]
    },
    {
      "cell_type": "code",
      "execution_count": 1,
      "metadata": {
        "colab": {
          "base_uri": "https://localhost:8080/"
        },
        "id": "-7L-2ZWUVgSl",
        "outputId": "e0b9ea43-2c6f-4175-f389-202373f3b32c"
      },
      "outputs": [
        {
          "name": "stdout",
          "output_type": "stream",
          "text": [
            "\n",
            "\u001b[1m[\u001b[0m\u001b[34;49mnotice\u001b[0m\u001b[1;39;49m]\u001b[0m\u001b[39;49m A new release of pip is available: \u001b[0m\u001b[31;49m25.1\u001b[0m\u001b[39;49m -> \u001b[0m\u001b[32;49m25.1.1\u001b[0m\n",
            "\u001b[1m[\u001b[0m\u001b[34;49mnotice\u001b[0m\u001b[1;39;49m]\u001b[0m\u001b[39;49m To update, run: \u001b[0m\u001b[32;49mpython3.9 -m pip install --upgrade pip\u001b[0m\n",
            "\u001b[31mERROR: pip's dependency resolver does not currently take into account all the packages that are installed. This behaviour is the source of the following dependency conflicts.\n",
            "openvino-dev 2024.6.0 requires openvino==2024.6.0, but you have openvino 2024.3.0 which is incompatible.\u001b[0m\u001b[31m\n",
            "\u001b[0m\n",
            "\u001b[1m[\u001b[0m\u001b[34;49mnotice\u001b[0m\u001b[1;39;49m]\u001b[0m\u001b[39;49m A new release of pip is available: \u001b[0m\u001b[31;49m25.1\u001b[0m\u001b[39;49m -> \u001b[0m\u001b[32;49m25.1.1\u001b[0m\n",
            "\u001b[1m[\u001b[0m\u001b[34;49mnotice\u001b[0m\u001b[1;39;49m]\u001b[0m\u001b[39;49m To update, run: \u001b[0m\u001b[32;49mpython3.9 -m pip install --upgrade pip\u001b[0m\n",
            "\n",
            "\u001b[1m[\u001b[0m\u001b[34;49mnotice\u001b[0m\u001b[1;39;49m]\u001b[0m\u001b[39;49m A new release of pip is available: \u001b[0m\u001b[31;49m25.1\u001b[0m\u001b[39;49m -> \u001b[0m\u001b[32;49m25.1.1\u001b[0m\n",
            "\u001b[1m[\u001b[0m\u001b[34;49mnotice\u001b[0m\u001b[1;39;49m]\u001b[0m\u001b[39;49m To update, run: \u001b[0m\u001b[32;49mpython3.9 -m pip install --upgrade pip\u001b[0m\n",
            "\n",
            "\u001b[1m[\u001b[0m\u001b[34;49mnotice\u001b[0m\u001b[1;39;49m]\u001b[0m\u001b[39;49m A new release of pip is available: \u001b[0m\u001b[31;49m25.1\u001b[0m\u001b[39;49m -> \u001b[0m\u001b[32;49m25.1.1\u001b[0m\n",
            "\u001b[1m[\u001b[0m\u001b[34;49mnotice\u001b[0m\u001b[1;39;49m]\u001b[0m\u001b[39;49m To update, run: \u001b[0m\u001b[32;49mpython3.9 -m pip install --upgrade pip\u001b[0m\n",
            "Defaulting to user installation because normal site-packages is not writeable\n",
            "Requirement already satisfied: huggingface-hub in /usr/local/lib/python3.9/dist-packages (0.28.1)\n",
            "Collecting huggingface-hub\n",
            "  Downloading huggingface_hub-0.31.1-py3-none-any.whl.metadata (13 kB)\n",
            "Requirement already satisfied: filelock in /usr/local/lib/python3.9/dist-packages (from huggingface-hub) (3.17.0)\n",
            "Requirement already satisfied: fsspec>=2023.5.0 in /home/alegp97/.local/lib/python3.9/site-packages (from huggingface-hub) (2024.12.0)\n",
            "Requirement already satisfied: packaging>=20.9 in /usr/local/lib/python3.9/dist-packages (from huggingface-hub) (24.2)\n",
            "Requirement already satisfied: pyyaml>=5.1 in /home/alegp97/.local/lib/python3.9/site-packages (from huggingface-hub) (6.0.2)\n",
            "Requirement already satisfied: requests in /home/alegp97/.local/lib/python3.9/site-packages (from huggingface-hub) (2.32.3)\n",
            "Requirement already satisfied: tqdm>=4.42.1 in /usr/local/lib/python3.9/dist-packages (from huggingface-hub) (4.67.1)\n",
            "Requirement already satisfied: typing-extensions>=3.7.4.3 in /usr/local/lib/python3.9/dist-packages (from huggingface-hub) (4.12.2)\n",
            "Collecting hf-xet<2.0.0,>=1.1.0 (from huggingface-hub)\n",
            "  Downloading hf_xet-1.1.0-cp37-abi3-manylinux_2_17_x86_64.manylinux2014_x86_64.whl.metadata (494 bytes)\n",
            "Requirement already satisfied: charset-normalizer<4,>=2 in /home/alegp97/.local/lib/python3.9/site-packages (from requests->huggingface-hub) (3.4.1)\n",
            "Requirement already satisfied: idna<4,>=2.5 in /usr/lib/python3/dist-packages (from requests->huggingface-hub) (2.8)\n",
            "Requirement already satisfied: urllib3<3,>=1.21.1 in /home/alegp97/.local/lib/python3.9/site-packages (from requests->huggingface-hub) (2.3.0)\n",
            "Requirement already satisfied: certifi>=2017.4.17 in /usr/lib/python3/dist-packages (from requests->huggingface-hub) (2019.11.28)\n",
            "Downloading huggingface_hub-0.31.1-py3-none-any.whl (484 kB)\n",
            "Downloading hf_xet-1.1.0-cp37-abi3-manylinux_2_17_x86_64.manylinux2014_x86_64.whl (53.6 MB)\n",
            "\u001b[2K   \u001b[90m━━━━━━━━━━━━━━━━━━━━━━━━━━━━━━━━━━━━━━━━\u001b[0m \u001b[32m53.6/53.6 MB\u001b[0m \u001b[31m11.5 MB/s\u001b[0m eta \u001b[36m0:00:00\u001b[0m00:01\u001b[0m00:01\u001b[0m\n",
            "\u001b[?25hInstalling collected packages: hf-xet, huggingface-hub\n",
            "\u001b[2K   \u001b[90m━━━━━━━━━━━━━━━━━━━━━━━━━━━━━━━━━━━━━━━━\u001b[0m \u001b[32m2/2\u001b[0m [huggingface-hub] [huggingface-hub]\n",
            "\u001b[1A\u001b[2KSuccessfully installed hf-xet-1.1.0 huggingface-hub-0.31.1\n",
            "\n",
            "\u001b[1m[\u001b[0m\u001b[34;49mnotice\u001b[0m\u001b[1;39;49m]\u001b[0m\u001b[39;49m A new release of pip is available: \u001b[0m\u001b[31;49m25.1\u001b[0m\u001b[39;49m -> \u001b[0m\u001b[32;49m25.1.1\u001b[0m\n",
            "\u001b[1m[\u001b[0m\u001b[34;49mnotice\u001b[0m\u001b[1;39;49m]\u001b[0m\u001b[39;49m To update, run: \u001b[0m\u001b[32;49mpython3.9 -m pip install --upgrade pip\u001b[0m\n"
          ]
        }
      ],
      "source": [
        "!pip install -q --upgrade transformers==4.39.3\n",
        "!pip install -q --upgrade openvino==2024.3\n",
        "!pip install -q --upgrade optimum-intel==1.18.3\n",
        "!pip install -q --upgrade onnx==1.12.0\n",
        "!pip install --upgrade huggingface-hub"
      ]
    },
    {
      "cell_type": "markdown",
      "metadata": {
        "id": "vI7uz_6hVgSl"
      },
      "source": [
        "[Optimum Intel](https://github.com/huggingface/optimum-intel?tab=readme-ov-file#openvino) is the interface between the Transformers library and the various model optimization and acceleration tools provided by Intel. HuggingFace models loaded with optimum-intel are automatically optimized for OpenVINO, while being compatible with the Transformers API.\n",
        "- To load a HuggingFace model directly for inference/export, just replace the `AutoModelForXxx` class with the corresponding `OVModelForXxx` class. We can use this to import and export OpenVINO models with `from_pretrained` and `save_pretrained`.\n",
        "- By setting `export=True`, the source model is converted to OpenVINO IR format on the fly.\n",
        "- We'll use [openai-community/gpt2](https://huggingface.co/openai-community/gpt2) model from HuggingFace, representing an OpenVINO model.\n",
        "- In addition to the OVModelForFeatureExtraction model, we also need to save the `AutoTokenizer`. This is the same for every model, these are assets (saved in `/assets`) needed for tokenization inside Spark NLP."
      ]
    },
    {
      "cell_type": "code",
      "execution_count": 2,
      "metadata": {
        "colab": {
          "base_uri": "https://localhost:8080/"
        },
        "id": "qF5Pp3DuVgSm",
        "outputId": "4b26fc83-b3bb-492b-d90e-05074e8b8634"
      },
      "outputs": [
        {
          "name": "stderr",
          "output_type": "stream",
          "text": [
            "/usr/local/lib/python3.9/dist-packages/tqdm/auto.py:21: TqdmWarning: IProgress not found. Please update jupyter and ipywidgets. See https://ipywidgets.readthedocs.io/en/stable/user_install.html\n",
            "  from .autonotebook import tqdm as notebook_tqdm\n",
            "The cache for model files in Transformers v4.22.0 has been updated. Migrating your old cache. This is a one-time only operation. You can interrupt this and resume the migration later on by calling `transformers.utils.move_cache()`.\n",
            "0it [00:00, ?it/s]\n"
          ]
        },
        {
          "name": "stdout",
          "output_type": "stream",
          "text": [
            "config.json: 100%|█████████████████████████████| 665/665 [00:00<00:00, 55.2kB/s]\n",
            "Framework not specified. Using pt to export the model.\n",
            "model.safetensors: 100%|█████████████████████| 548M/548M [00:42<00:00, 12.9MB/s]\n",
            "generation_config.json: 100%|██████████████████| 124/124 [00:00<00:00, 10.2kB/s]\n",
            "The task `text-generation` was manually specified, and past key values will not be reused in the decoding. if needed, please pass `--task text-generation-with-past` to export using the past key values.\n",
            "tokenizer_config.json: 100%|█████████████████| 26.0/26.0 [00:00<00:00, 9.07kB/s]\n",
            "vocab.json: 100%|██████████████████████████| 1.04M/1.04M [00:00<00:00, 2.87MB/s]\n",
            "merges.txt: 100%|████████████████████████████| 456k/456k [00:00<00:00, 8.77MB/s]\n",
            "tokenizer.json: 100%|██████████████████████| 1.36M/1.36M [00:00<00:00, 3.13MB/s]\n",
            "Using framework PyTorch: 2.6.0+cu124\n",
            "Overriding 1 configuration item(s)\n",
            "\t- use_cache -> False\n",
            "/home/alegp97/.local/lib/python3.9/site-packages/transformers/models/gpt2/modeling_gpt2.py:801: TracerWarning: Converting a tensor to a Python boolean might cause the trace to be incorrect. We can't record the data flow of Python values, so this value will be treated as a constant in the future. This means that the trace might not generalize to other inputs!\n",
            "  if batch_size <= 0:\n",
            "OpenVINO Tokenizers is not available. To deploy models in production with C++ code, please follow installation instructions: https://github.com/openvinotoolkit/openvino_tokenizers?tab=readme-ov-file#installation\n",
            "\n",
            "Tokenizer won't be converted.\n"
          ]
        }
      ],
      "source": [
        "from transformers import AutoTokenizer\n",
        "\n",
        "MODEL_NAME = \"openai-community/gpt2\"\n",
        "EXPORT_PATH = f\"ov_models/{MODEL_NAME}\"\n",
        "\n",
        "! optimum-cli export openvino --model {MODEL_NAME} --task text-generation {EXPORT_PATH}\n",
        "!mkdir {EXPORT_PATH}/assets"
      ]
    },
    {
      "cell_type": "code",
      "execution_count": 3,
      "metadata": {
        "id": "eLOAI6Lp8PJ8"
      },
      "outputs": [],
      "source": [
        "! mv -t {EXPORT_PATH}/assets {EXPORT_PATH}/*.json {EXPORT_PATH}/*.txt"
      ]
    },
    {
      "cell_type": "code",
      "execution_count": 4,
      "metadata": {
        "id": "biG0hc5758U1"
      },
      "outputs": [],
      "source": [
        "import json\n",
        "output_json = json.load(open(f\"{EXPORT_PATH}/assets/vocab.json\"))\n",
        "\n",
        "with open(f\"{EXPORT_PATH}/assets/vocab.txt\", \"w\") as f:\n",
        "    for key in output_json.keys():\n",
        "        print(key, file=f)"
      ]
    },
    {
      "cell_type": "code",
      "execution_count": 5,
      "metadata": {
        "colab": {
          "base_uri": "https://localhost:8080/"
        },
        "id": "vh9eh1-yxfwt",
        "outputId": "f6bbdfc6-1d23-4066-ff94-e3d8fc5519cf"
      },
      "outputs": [
        {
          "name": "stdout",
          "output_type": "stream",
          "text": [
            "total 3736\n",
            "-rw-rw----+ 1 alegp97 alegp97     896 may  9 14:28 config.json\n",
            "-rw-rw----+ 1 alegp97 alegp97     119 may  9 14:28 generation_config.json\n",
            "-rw-rw----+ 1 alegp97 alegp97  456318 may  9 14:28 merges.txt\n",
            "-rw-rw----+ 1 alegp97 alegp97      99 may  9 14:28 special_tokens_map.json\n",
            "-rw-rw----+ 1 alegp97 alegp97     444 may  9 14:28 tokenizer_config.json\n",
            "-rw-rw----+ 1 alegp97 alegp97 2107652 may  9 14:28 tokenizer.json\n",
            "-rw-rw----+ 1 alegp97 alegp97  798156 may  9 14:28 vocab.json\n",
            "-rw-rw----+ 1 alegp97 alegp97  406992 may  9 14:28 vocab.txt\n"
          ]
        }
      ],
      "source": [
        "!ls -l {EXPORT_PATH}/assets"
      ]
    },
    {
      "cell_type": "markdown",
      "metadata": {
        "id": "NZZqEbvvS-JM"
      },
      "source": [
        "## Import and Save GPT2 in Spark NLP\n",
        "\n",
        "- Let's install and setup Spark NLP in Google Colab\n",
        "- This part is pretty easy via our simple script"
      ]
    },
    {
      "cell_type": "code",
      "execution_count": 6,
      "metadata": {
        "colab": {
          "base_uri": "https://localhost:8080/"
        },
        "id": "SLlypPRaS-JM",
        "outputId": "54ab8af5-a1cb-4c29-f982-2f5aac5e6e35"
      },
      "outputs": [
        {
          "name": "stdout",
          "output_type": "stream",
          "text": [
            "Installing PySpark 3.2.3 and Spark NLP 6.0.0\n",
            "setup Colab for PySpark 3.2.3 and Spark NLP 6.0.0\n",
            "\u001b[33m  DEPRECATION: Building 'pyspark' using the legacy setup.py bdist_wheel mechanism, which will be removed in a future version. pip 25.3 will enforce this behaviour change. A possible replacement is to use the standardized build interface by setting the `--use-pep517` option, (possibly combined with `--no-build-isolation`), or adding a `pyproject.toml` file to the source tree of 'pyspark'. Discussion can be found at https://github.com/pypa/pip/issues/6334\u001b[0m\u001b[33m\n",
            "\u001b[0m\n",
            "\u001b[1m[\u001b[0m\u001b[34;49mnotice\u001b[0m\u001b[1;39;49m]\u001b[0m\u001b[39;49m A new release of pip is available: \u001b[0m\u001b[31;49m25.1\u001b[0m\u001b[39;49m -> \u001b[0m\u001b[32;49m25.1.1\u001b[0m\n",
            "\u001b[1m[\u001b[0m\u001b[34;49mnotice\u001b[0m\u001b[1;39;49m]\u001b[0m\u001b[39;49m To update, run: \u001b[0m\u001b[32;49mpython3.9 -m pip install --upgrade pip\u001b[0m\n"
          ]
        }
      ],
      "source": [
        "! wget -q http://setup.johnsnowlabs.com/colab.sh -O - | bash"
      ]
    },
    {
      "cell_type": "markdown",
      "metadata": {
        "id": "QEy-zFjnS-JM"
      },
      "source": [
        "Let's start Spark with Spark NLP included via our simple `start()` function"
      ]
    },
    {
      "cell_type": "code",
      "execution_count": 7,
      "metadata": {
        "colab": {
          "base_uri": "https://localhost:8080/"
        },
        "id": "0KOd7hwNS-JM",
        "outputId": "8e408b69-db08-42f5-9d14-c163034f9c04"
      },
      "outputs": [
        {
          "name": "stdout",
          "output_type": "stream",
          "text": [
            ":: loading settings :: url = jar:file:/opt/spark-3.5.1/jars/ivy-2.5.1.jar!/org/apache/ivy/core/settings/ivysettings.xml\n"
          ]
        },
        {
          "name": "stderr",
          "output_type": "stream",
          "text": [
            "Ivy Default Cache set to: /home/alegp97/.ivy2/cache\n",
            "The jars for the packages stored in: /home/alegp97/.ivy2/jars\n",
            "com.johnsnowlabs.nlp#spark-nlp_2.12 added as a dependency\n",
            ":: resolving dependencies :: org.apache.spark#spark-submit-parent-aeb100ab-a92c-45c8-8d9f-c21f9c8e08f9;1.0\n",
            "\tconfs: [default]\n",
            "\tfound com.johnsnowlabs.nlp#spark-nlp_2.12;6.0.0 in central\n",
            "\tfound com.typesafe#config;1.4.2 in central\n",
            "\tfound org.rocksdb#rocksdbjni;6.29.5 in central\n",
            "\tfound com.amazonaws#aws-java-sdk-s3;1.12.500 in central\n",
            "\tfound com.amazonaws#aws-java-sdk-kms;1.12.500 in central\n",
            "\tfound com.amazonaws#aws-java-sdk-core;1.12.500 in central\n",
            "\tfound commons-logging#commons-logging;1.1.3 in central\n",
            "\tfound commons-codec#commons-codec;1.15 in central\n",
            "\tfound org.apache.httpcomponents#httpclient;4.5.13 in central\n",
            "\tfound org.apache.httpcomponents#httpcore;4.4.13 in central\n",
            "\tfound software.amazon.ion#ion-java;1.0.2 in central\n",
            "\tfound joda-time#joda-time;2.8.1 in central\n",
            "\tfound com.amazonaws#jmespath-java;1.12.500 in central\n",
            "\tfound com.github.universal-automata#liblevenshtein;3.0.0 in central\n",
            "\tfound com.google.protobuf#protobuf-java-util;3.0.0-beta-3 in central\n",
            "\tfound com.google.protobuf#protobuf-java;3.0.0-beta-3 in central\n",
            "\tfound com.google.code.gson#gson;2.3 in central\n",
            "\tfound it.unimi.dsi#fastutil;7.0.12 in central\n",
            "\tfound org.projectlombok#lombok;1.16.8 in central\n",
            "\tfound com.google.cloud#google-cloud-storage;2.20.1 in central\n",
            "\tfound com.google.guava#guava;31.1-jre in central\n",
            "\tfound com.google.guava#failureaccess;1.0.1 in central\n",
            "\tfound com.google.guava#listenablefuture;9999.0-empty-to-avoid-conflict-with-guava in central\n",
            "\tfound com.google.errorprone#error_prone_annotations;2.18.0 in central\n",
            "\tfound com.google.j2objc#j2objc-annotations;1.3 in central\n",
            "\tfound com.google.http-client#google-http-client;1.43.0 in central\n",
            "\tfound io.opencensus#opencensus-contrib-http-util;0.31.1 in central\n",
            "\tfound com.google.http-client#google-http-client-jackson2;1.43.0 in central\n",
            "\tfound com.google.http-client#google-http-client-gson;1.43.0 in central\n",
            "\tfound com.google.api-client#google-api-client;2.2.0 in central\n",
            "\tfound com.google.oauth-client#google-oauth-client;1.34.1 in central\n",
            "\tfound com.google.http-client#google-http-client-apache-v2;1.43.0 in central\n",
            "\tfound com.google.apis#google-api-services-storage;v1-rev20220705-2.0.0 in central\n",
            "\tfound com.google.code.gson#gson;2.10.1 in central\n",
            "\tfound com.google.cloud#google-cloud-core;2.12.0 in central\n",
            "\tfound io.grpc#grpc-context;1.53.0 in central\n",
            "\tfound com.google.auto.value#auto-value-annotations;1.10.1 in central\n",
            "\tfound com.google.auto.value#auto-value;1.10.1 in central\n",
            "\tfound javax.annotation#javax.annotation-api;1.3.2 in central\n",
            "\tfound com.google.cloud#google-cloud-core-http;2.12.0 in central\n",
            "\tfound com.google.http-client#google-http-client-appengine;1.43.0 in central\n",
            "\tfound com.google.api#gax-httpjson;0.108.2 in central\n",
            "\tfound com.google.cloud#google-cloud-core-grpc;2.12.0 in central\n",
            "\tfound io.grpc#grpc-alts;1.53.0 in central\n",
            "\tfound io.grpc#grpc-grpclb;1.53.0 in central\n",
            "\tfound org.conscrypt#conscrypt-openjdk-uber;2.5.2 in central\n",
            "\tfound io.grpc#grpc-auth;1.53.0 in central\n",
            "\tfound io.grpc#grpc-protobuf;1.53.0 in central\n",
            "\tfound io.grpc#grpc-protobuf-lite;1.53.0 in central\n",
            "\tfound io.grpc#grpc-core;1.53.0 in central\n",
            "\tfound com.google.api#gax;2.23.2 in central\n",
            "\tfound com.google.api#gax-grpc;2.23.2 in central\n",
            "\tfound com.google.auth#google-auth-library-credentials;1.16.0 in central\n",
            "\tfound com.google.auth#google-auth-library-oauth2-http;1.16.0 in central\n",
            "\tfound com.google.api#api-common;2.6.2 in central\n",
            "\tfound io.opencensus#opencensus-api;0.31.1 in central\n",
            "\tfound com.google.api.grpc#proto-google-iam-v1;1.9.2 in central\n",
            "\tfound com.google.protobuf#protobuf-java;3.21.12 in central\n",
            "\tfound com.google.protobuf#protobuf-java-util;3.21.12 in central\n",
            "\tfound com.google.api.grpc#proto-google-common-protos;2.14.2 in central\n",
            "\tfound org.threeten#threetenbp;1.6.5 in central\n",
            "\tfound com.google.api.grpc#proto-google-cloud-storage-v2;2.20.1-alpha in central\n",
            "\tfound com.google.api.grpc#grpc-google-cloud-storage-v2;2.20.1-alpha in central\n",
            "\tfound com.google.api.grpc#gapic-google-cloud-storage-v2;2.20.1-alpha in central\n",
            "\tfound com.google.code.findbugs#jsr305;3.0.2 in central\n",
            "\tfound io.grpc#grpc-api;1.53.0 in central\n",
            "\tfound io.grpc#grpc-stub;1.53.0 in central\n",
            "\tfound org.checkerframework#checker-qual;3.31.0 in central\n",
            "\tfound io.perfmark#perfmark-api;0.26.0 in central\n",
            "\tfound com.google.android#annotations;4.1.1.4 in central\n",
            "\tfound org.codehaus.mojo#animal-sniffer-annotations;1.22 in central\n",
            "\tfound io.opencensus#opencensus-proto;0.2.0 in central\n",
            "\tfound io.grpc#grpc-services;1.53.0 in central\n",
            "\tfound com.google.re2j#re2j;1.6 in central\n",
            "\tfound io.grpc#grpc-netty-shaded;1.53.0 in central\n",
            "\tfound io.grpc#grpc-googleapis;1.53.0 in central\n",
            "\tfound io.grpc#grpc-xds;1.53.0 in central\n",
            "\tfound com.navigamez#greex;1.0 in central\n",
            "\tfound dk.brics.automaton#automaton;1.11-8 in central\n",
            "\tfound org.jsoup#jsoup;1.18.2 in central\n",
            "\tfound jakarta.mail#jakarta.mail-api;2.1.3 in central\n",
            "\tfound jakarta.activation#jakarta.activation-api;2.1.3 in central\n",
            "\tfound org.eclipse.angus#angus-mail;2.0.3 in central\n",
            "\tfound org.eclipse.angus#angus-activation;2.0.2 in central\n",
            "\tfound org.apache.poi#poi-ooxml;4.1.2 in central\n",
            "\tfound org.apache.poi#poi;4.1.2 in central\n",
            "\tfound org.apache.commons#commons-collections4;4.4 in central\n",
            "\tfound org.apache.commons#commons-math3;3.6.1 in central\n",
            "\tfound com.zaxxer#SparseBitSet;1.2 in central\n",
            "\tfound org.apache.poi#poi-ooxml-schemas;4.1.2 in central\n",
            "\tfound org.apache.xmlbeans#xmlbeans;3.1.0 in central\n",
            "\tfound org.apache.commons#commons-compress;1.19 in central\n",
            "\tfound com.github.virtuald#curvesapi;1.06 in central\n",
            "\tfound org.apache.poi#poi-scratchpad;4.1.2 in central\n",
            "\tfound org.apache.pdfbox#pdfbox;2.0.28 in central\n",
            "\tfound org.apache.pdfbox#fontbox;2.0.28 in central\n",
            "\tfound com.johnsnowlabs.nlp#tensorflow-cpu_2.12;0.4.4 in central\n",
            "\tfound com.microsoft.onnxruntime#onnxruntime;1.19.2 in central\n",
            "\tfound com.johnsnowlabs.nlp#jsl-llamacpp-cpu_2.12;0.1.6 in central\n",
            "\tfound org.jetbrains#annotations;24.1.0 in central\n",
            "\tfound com.johnsnowlabs.nlp#jsl-openvino-cpu_2.12;0.1.0 in central\n",
            "downloading https://repo1.maven.org/maven2/com/johnsnowlabs/nlp/spark-nlp_2.12/6.0.0/spark-nlp_2.12-6.0.0.jar ...\n",
            "\t[SUCCESSFUL ] com.johnsnowlabs.nlp#spark-nlp_2.12;6.0.0!spark-nlp_2.12.jar (5687ms)\n",
            "downloading https://repo1.maven.org/maven2/org/apache/pdfbox/pdfbox/2.0.28/pdfbox-2.0.28.jar ...\n",
            "\t[SUCCESSFUL ] org.apache.pdfbox#pdfbox;2.0.28!pdfbox.jar(bundle) (306ms)\n",
            "downloading https://repo1.maven.org/maven2/com/johnsnowlabs/nlp/jsl-llamacpp-cpu_2.12/0.1.6/jsl-llamacpp-cpu_2.12-0.1.6.jar ...\n",
            "\t[SUCCESSFUL ] com.johnsnowlabs.nlp#jsl-llamacpp-cpu_2.12;0.1.6!jsl-llamacpp-cpu_2.12.jar (305ms)\n",
            "downloading https://repo1.maven.org/maven2/org/apache/pdfbox/fontbox/2.0.28/fontbox-2.0.28.jar ...\n",
            "\t[SUCCESSFUL ] org.apache.pdfbox#fontbox;2.0.28!fontbox.jar(bundle) (187ms)\n",
            ":: resolution report :: resolve 4149ms :: artifacts dl 6596ms\n",
            "\t:: modules in use:\n",
            "\tcom.amazonaws#aws-java-sdk-core;1.12.500 from central in [default]\n",
            "\tcom.amazonaws#aws-java-sdk-kms;1.12.500 from central in [default]\n",
            "\tcom.amazonaws#aws-java-sdk-s3;1.12.500 from central in [default]\n",
            "\tcom.amazonaws#jmespath-java;1.12.500 from central in [default]\n",
            "\tcom.github.universal-automata#liblevenshtein;3.0.0 from central in [default]\n",
            "\tcom.github.virtuald#curvesapi;1.06 from central in [default]\n",
            "\tcom.google.android#annotations;4.1.1.4 from central in [default]\n",
            "\tcom.google.api#api-common;2.6.2 from central in [default]\n",
            "\tcom.google.api#gax;2.23.2 from central in [default]\n",
            "\tcom.google.api#gax-grpc;2.23.2 from central in [default]\n",
            "\tcom.google.api#gax-httpjson;0.108.2 from central in [default]\n",
            "\tcom.google.api-client#google-api-client;2.2.0 from central in [default]\n",
            "\tcom.google.api.grpc#gapic-google-cloud-storage-v2;2.20.1-alpha from central in [default]\n",
            "\tcom.google.api.grpc#grpc-google-cloud-storage-v2;2.20.1-alpha from central in [default]\n",
            "\tcom.google.api.grpc#proto-google-cloud-storage-v2;2.20.1-alpha from central in [default]\n",
            "\tcom.google.api.grpc#proto-google-common-protos;2.14.2 from central in [default]\n",
            "\tcom.google.api.grpc#proto-google-iam-v1;1.9.2 from central in [default]\n",
            "\tcom.google.apis#google-api-services-storage;v1-rev20220705-2.0.0 from central in [default]\n",
            "\tcom.google.auth#google-auth-library-credentials;1.16.0 from central in [default]\n",
            "\tcom.google.auth#google-auth-library-oauth2-http;1.16.0 from central in [default]\n",
            "\tcom.google.auto.value#auto-value;1.10.1 from central in [default]\n",
            "\tcom.google.auto.value#auto-value-annotations;1.10.1 from central in [default]\n",
            "\tcom.google.cloud#google-cloud-core;2.12.0 from central in [default]\n",
            "\tcom.google.cloud#google-cloud-core-grpc;2.12.0 from central in [default]\n",
            "\tcom.google.cloud#google-cloud-core-http;2.12.0 from central in [default]\n",
            "\tcom.google.cloud#google-cloud-storage;2.20.1 from central in [default]\n",
            "\tcom.google.code.findbugs#jsr305;3.0.2 from central in [default]\n",
            "\tcom.google.code.gson#gson;2.10.1 from central in [default]\n",
            "\tcom.google.errorprone#error_prone_annotations;2.18.0 from central in [default]\n",
            "\tcom.google.guava#failureaccess;1.0.1 from central in [default]\n",
            "\tcom.google.guava#guava;31.1-jre from central in [default]\n",
            "\tcom.google.guava#listenablefuture;9999.0-empty-to-avoid-conflict-with-guava from central in [default]\n",
            "\tcom.google.http-client#google-http-client;1.43.0 from central in [default]\n",
            "\tcom.google.http-client#google-http-client-apache-v2;1.43.0 from central in [default]\n",
            "\tcom.google.http-client#google-http-client-appengine;1.43.0 from central in [default]\n",
            "\tcom.google.http-client#google-http-client-gson;1.43.0 from central in [default]\n",
            "\tcom.google.http-client#google-http-client-jackson2;1.43.0 from central in [default]\n",
            "\tcom.google.j2objc#j2objc-annotations;1.3 from central in [default]\n",
            "\tcom.google.oauth-client#google-oauth-client;1.34.1 from central in [default]\n",
            "\tcom.google.protobuf#protobuf-java;3.21.12 from central in [default]\n",
            "\tcom.google.protobuf#protobuf-java-util;3.21.12 from central in [default]\n",
            "\tcom.google.re2j#re2j;1.6 from central in [default]\n",
            "\tcom.johnsnowlabs.nlp#jsl-llamacpp-cpu_2.12;0.1.6 from central in [default]\n",
            "\tcom.johnsnowlabs.nlp#jsl-openvino-cpu_2.12;0.1.0 from central in [default]\n",
            "\tcom.johnsnowlabs.nlp#spark-nlp_2.12;6.0.0 from central in [default]\n",
            "\tcom.johnsnowlabs.nlp#tensorflow-cpu_2.12;0.4.4 from central in [default]\n",
            "\tcom.microsoft.onnxruntime#onnxruntime;1.19.2 from central in [default]\n",
            "\tcom.navigamez#greex;1.0 from central in [default]\n",
            "\tcom.typesafe#config;1.4.2 from central in [default]\n",
            "\tcom.zaxxer#SparseBitSet;1.2 from central in [default]\n",
            "\tcommons-codec#commons-codec;1.15 from central in [default]\n",
            "\tcommons-logging#commons-logging;1.1.3 from central in [default]\n",
            "\tdk.brics.automaton#automaton;1.11-8 from central in [default]\n",
            "\tio.grpc#grpc-alts;1.53.0 from central in [default]\n",
            "\tio.grpc#grpc-api;1.53.0 from central in [default]\n",
            "\tio.grpc#grpc-auth;1.53.0 from central in [default]\n",
            "\tio.grpc#grpc-context;1.53.0 from central in [default]\n",
            "\tio.grpc#grpc-core;1.53.0 from central in [default]\n",
            "\tio.grpc#grpc-googleapis;1.53.0 from central in [default]\n",
            "\tio.grpc#grpc-grpclb;1.53.0 from central in [default]\n",
            "\tio.grpc#grpc-netty-shaded;1.53.0 from central in [default]\n",
            "\tio.grpc#grpc-protobuf;1.53.0 from central in [default]\n",
            "\tio.grpc#grpc-protobuf-lite;1.53.0 from central in [default]\n",
            "\tio.grpc#grpc-services;1.53.0 from central in [default]\n",
            "\tio.grpc#grpc-stub;1.53.0 from central in [default]\n",
            "\tio.grpc#grpc-xds;1.53.0 from central in [default]\n",
            "\tio.opencensus#opencensus-api;0.31.1 from central in [default]\n",
            "\tio.opencensus#opencensus-contrib-http-util;0.31.1 from central in [default]\n",
            "\tio.opencensus#opencensus-proto;0.2.0 from central in [default]\n",
            "\tio.perfmark#perfmark-api;0.26.0 from central in [default]\n",
            "\tit.unimi.dsi#fastutil;7.0.12 from central in [default]\n",
            "\tjakarta.activation#jakarta.activation-api;2.1.3 from central in [default]\n",
            "\tjakarta.mail#jakarta.mail-api;2.1.3 from central in [default]\n",
            "\tjavax.annotation#javax.annotation-api;1.3.2 from central in [default]\n",
            "\tjoda-time#joda-time;2.8.1 from central in [default]\n",
            "\torg.apache.commons#commons-collections4;4.4 from central in [default]\n",
            "\torg.apache.commons#commons-compress;1.19 from central in [default]\n",
            "\torg.apache.commons#commons-math3;3.6.1 from central in [default]\n",
            "\torg.apache.httpcomponents#httpclient;4.5.13 from central in [default]\n",
            "\torg.apache.httpcomponents#httpcore;4.4.13 from central in [default]\n",
            "\torg.apache.pdfbox#fontbox;2.0.28 from central in [default]\n",
            "\torg.apache.pdfbox#pdfbox;2.0.28 from central in [default]\n",
            "\torg.apache.poi#poi;4.1.2 from central in [default]\n",
            "\torg.apache.poi#poi-ooxml;4.1.2 from central in [default]\n",
            "\torg.apache.poi#poi-ooxml-schemas;4.1.2 from central in [default]\n",
            "\torg.apache.poi#poi-scratchpad;4.1.2 from central in [default]\n",
            "\torg.apache.xmlbeans#xmlbeans;3.1.0 from central in [default]\n",
            "\torg.checkerframework#checker-qual;3.31.0 from central in [default]\n",
            "\torg.codehaus.mojo#animal-sniffer-annotations;1.22 from central in [default]\n",
            "\torg.conscrypt#conscrypt-openjdk-uber;2.5.2 from central in [default]\n",
            "\torg.eclipse.angus#angus-activation;2.0.2 from central in [default]\n",
            "\torg.eclipse.angus#angus-mail;2.0.3 from central in [default]\n",
            "\torg.jetbrains#annotations;24.1.0 from central in [default]\n",
            "\torg.jsoup#jsoup;1.18.2 from central in [default]\n",
            "\torg.projectlombok#lombok;1.16.8 from central in [default]\n",
            "\torg.rocksdb#rocksdbjni;6.29.5 from central in [default]\n",
            "\torg.threeten#threetenbp;1.6.5 from central in [default]\n",
            "\tsoftware.amazon.ion#ion-java;1.0.2 from central in [default]\n",
            "\t:: evicted modules:\n",
            "\tcommons-logging#commons-logging;1.2 by [commons-logging#commons-logging;1.1.3] in [default]\n",
            "\tcommons-codec#commons-codec;1.11 by [commons-codec#commons-codec;1.15] in [default]\n",
            "\tcom.google.protobuf#protobuf-java-util;3.0.0-beta-3 by [com.google.protobuf#protobuf-java-util;3.21.12] in [default]\n",
            "\tcom.google.protobuf#protobuf-java;3.0.0-beta-3 by [com.google.protobuf#protobuf-java;3.21.12] in [default]\n",
            "\tcom.google.code.gson#gson;2.3 by [com.google.code.gson#gson;2.10.1] in [default]\n",
            "\tcommons-codec#commons-codec;1.13 by [commons-codec#commons-codec;1.15] in [default]\n",
            "\t---------------------------------------------------------------------\n",
            "\t|                  |            modules            ||   artifacts   |\n",
            "\t|       conf       | number| search|dwnlded|evicted|| number|dwnlded|\n",
            "\t---------------------------------------------------------------------\n",
            "\t|      default     |  104  |   4   |   4   |   6   ||   98  |   4   |\n",
            "\t---------------------------------------------------------------------\n",
            ":: retrieving :: org.apache.spark#spark-submit-parent-aeb100ab-a92c-45c8-8d9f-c21f9c8e08f9\n",
            "\tconfs: [default]\n",
            "\t4 artifacts copied, 94 already retrieved (53261kB/173ms)\n",
            "25/05/09 14:29:42 WARN NativeCodeLoader: Unable to load native-hadoop library for your platform... using builtin-java classes where applicable\n",
            "Setting default log level to \"WARN\".\n",
            "To adjust logging level use sc.setLogLevel(newLevel). For SparkR, use setLogLevel(newLevel).\n"
          ]
        },
        {
          "name": "stdout",
          "output_type": "stream",
          "text": [
            "Apache Spark version: 3.5.1\n"
          ]
        }
      ],
      "source": [
        "import sparknlp\n",
        "# let's start Spark with Spark NLP\n",
        "spark = sparknlp.start()\n",
        "print(\"Apache Spark version: {}\".format(spark.version))"
      ]
    },
    {
      "cell_type": "markdown",
      "metadata": {
        "id": "Qgl_T39AS-JM"
      },
      "source": [
        "- Let's use `loadSavedModel` functon in `GPT2Transformer` which allows us to load the Openvino model\n",
        "- Most params will be set automatically. They can also be set later after loading the model in `GPT2Transformer` during runtime, so don't worry about setting them now\n",
        "- `loadSavedModel` accepts two params, first is the path to the exported model. The second is the SparkSession that is `spark` variable we previously started via `sparknlp.start()`\n",
        "- NOTE: `loadSavedModel` accepts local paths in addition to distributed file systems such as `HDFS`, `S3`, `DBFS`, etc. This feature was introduced in Spark NLP 4.2.2 release. Keep in mind the best and recommended way to move/share/reuse Spark NLP models is to use `write.save` so you can use `.load()` from any file systems natively.st and recommended way to move/share/reuse Spark NLP models is to use `write.save` so you can use `.load()` from any file systems natively."
      ]
    },
    {
      "cell_type": "code",
      "execution_count": 8,
      "metadata": {
        "id": "Ij_8ZwLxS-JM"
      },
      "outputs": [
        {
          "name": "stderr",
          "output_type": "stream",
          "text": [
            "25/05/09 14:29:53 WARN NativeLibrary: Failed to load library null: java.lang.UnsatisfiedLinkError: Can't load library: /tmp/openvino-native10225245130208108791/libtbb.so.2\n",
            "25/05/09 14:29:53 WARN NativeLibrary: Failed to load library null: java.lang.UnsatisfiedLinkError: /tmp/openvino-native10225245130208108791/libopenvino.so: libtbb.so.12: cannot open shared object file: No such file or directory\n",
            "25/05/09 14:29:53 WARN NativeLibrary: Failed to load library null: java.lang.UnsatisfiedLinkError: /tmp/openvino-native10225245130208108791/libinference_engine_java_api.so: libopenvino.so.2410: cannot open shared object file: No such file or directory\n",
            "25/05/09 14:29:53 ERROR OpenvinoWrapper$: Could not initialize OpenVINO Core. Please make sure the jsl-openvino JAR is loaded and Intel oneTBB is installed.\n",
            "(See https://www.intel.com/content/www/us/en/docs/onetbb/get-started-guide/2021-12/overview.html)\n"
          ]
        },
        {
          "ename": "Py4JJavaError",
          "evalue": "An error occurred while calling z:com.johnsnowlabs.nlp.annotators.seq2seq.GPT2Transformer.loadSavedModel.\n: java.lang.UnsatisfiedLinkError: 'long org.intel.openvino.Core.GetCore()'\n\tat org.intel.openvino.Core.GetCore(Native Method)\n\tat org.intel.openvino.Core.<init>(Core.java:22)\n\tat com.johnsnowlabs.ml.openvino.OpenvinoWrapper$.liftedTree1$1(OpenvinoWrapper.scala:79)\n\tat com.johnsnowlabs.ml.openvino.OpenvinoWrapper$.<init>(OpenvinoWrapper.scala:78)\n\tat com.johnsnowlabs.ml.openvino.OpenvinoWrapper$.<clinit>(OpenvinoWrapper.scala)\n\tat com.johnsnowlabs.nlp.annotators.seq2seq.ReadGPT2TransformerDLModel.loadSavedModel(GPT2Transformer.scala:614)\n\tat com.johnsnowlabs.nlp.annotators.seq2seq.ReadGPT2TransformerDLModel.loadSavedModel$(GPT2Transformer.scala:571)\n\tat com.johnsnowlabs.nlp.annotators.seq2seq.GPT2Transformer$.loadSavedModel(GPT2Transformer.scala:632)\n\tat com.johnsnowlabs.nlp.annotators.seq2seq.GPT2Transformer.loadSavedModel(GPT2Transformer.scala)\n\tat java.base/jdk.internal.reflect.NativeMethodAccessorImpl.invoke0(Native Method)\n\tat java.base/jdk.internal.reflect.NativeMethodAccessorImpl.invoke(NativeMethodAccessorImpl.java:62)\n\tat java.base/jdk.internal.reflect.DelegatingMethodAccessorImpl.invoke(DelegatingMethodAccessorImpl.java:43)\n\tat java.base/java.lang.reflect.Method.invoke(Method.java:566)\n\tat py4j.reflection.MethodInvoker.invoke(MethodInvoker.java:244)\n\tat py4j.reflection.ReflectionEngine.invoke(ReflectionEngine.java:374)\n\tat py4j.Gateway.invoke(Gateway.java:282)\n\tat py4j.commands.AbstractCommand.invokeMethod(AbstractCommand.java:132)\n\tat py4j.commands.CallCommand.execute(CallCommand.java:79)\n\tat py4j.ClientServerConnection.waitForCommands(ClientServerConnection.java:182)\n\tat py4j.ClientServerConnection.run(ClientServerConnection.java:106)\n\tat java.base/java.lang.Thread.run(Thread.java:829)\n",
          "output_type": "error",
          "traceback": [
            "\u001b[0;31m---------------------------------------------------------------------------\u001b[0m",
            "\u001b[0;31mPy4JJavaError\u001b[0m                             Traceback (most recent call last)",
            "Cell \u001b[0;32mIn[8], line 3\u001b[0m\n\u001b[1;32m      1\u001b[0m \u001b[38;5;28;01mfrom\u001b[39;00m\u001b[38;5;250m \u001b[39m\u001b[38;5;21;01msparknlp\u001b[39;00m\u001b[38;5;21;01m.\u001b[39;00m\u001b[38;5;21;01mannotator\u001b[39;00m\u001b[38;5;250m \u001b[39m\u001b[38;5;28;01mimport\u001b[39;00m \u001b[38;5;241m*\u001b[39m\n\u001b[0;32m----> 3\u001b[0m gpt2 \u001b[38;5;241m=\u001b[39m \u001b[43mGPT2Transformer\u001b[49m\u001b[38;5;241;43m.\u001b[39;49m\u001b[43mloadSavedModel\u001b[49m\u001b[43m(\u001b[49m\u001b[43mEXPORT_PATH\u001b[49m\u001b[43m,\u001b[49m\u001b[43m \u001b[49m\u001b[43mspark\u001b[49m\u001b[43m)\u001b[49m\\\n\u001b[1;32m      4\u001b[0m   \u001b[38;5;241m.\u001b[39msetInputCols([\u001b[38;5;124m\"\u001b[39m\u001b[38;5;124mdocuments\u001b[39m\u001b[38;5;124m\"\u001b[39m])\\\n\u001b[1;32m      5\u001b[0m   \u001b[38;5;241m.\u001b[39msetMaxOutputLength(\u001b[38;5;241m50\u001b[39m)\\\n\u001b[1;32m      6\u001b[0m   \u001b[38;5;241m.\u001b[39msetDoSample(\u001b[38;5;28;01mTrue\u001b[39;00m)\\\n\u001b[1;32m      7\u001b[0m   \u001b[38;5;241m.\u001b[39msetTopK(\u001b[38;5;241m50\u001b[39m)\\\n\u001b[1;32m      8\u001b[0m   \u001b[38;5;241m.\u001b[39msetTemperature(\u001b[38;5;241m0\u001b[39m)\\\n\u001b[1;32m      9\u001b[0m   \u001b[38;5;241m.\u001b[39msetBatchSize(\u001b[38;5;241m5\u001b[39m)\\\n\u001b[1;32m     10\u001b[0m   \u001b[38;5;241m.\u001b[39msetNoRepeatNgramSize(\u001b[38;5;241m3\u001b[39m)\\\n\u001b[1;32m     11\u001b[0m   \u001b[38;5;241m.\u001b[39msetOutputCol(\u001b[38;5;124m\"\u001b[39m\u001b[38;5;124mgeneration\u001b[39m\u001b[38;5;124m\"\u001b[39m)\n",
            "File \u001b[0;32m~/.local/lib/python3.9/site-packages/sparknlp/annotator/seq2seq/gpt2_transformer.py:340\u001b[0m, in \u001b[0;36mGPT2Transformer.loadSavedModel\u001b[0;34m(folder, spark_session)\u001b[0m\n\u001b[1;32m    325\u001b[0m \u001b[38;5;250m\u001b[39m\u001b[38;5;124;03m\"\"\"Loads a locally saved model.\u001b[39;00m\n\u001b[1;32m    326\u001b[0m \n\u001b[1;32m    327\u001b[0m \u001b[38;5;124;03mParameters\u001b[39;00m\n\u001b[0;32m   (...)\u001b[0m\n\u001b[1;32m    337\u001b[0m \u001b[38;5;124;03m    The restored model\u001b[39;00m\n\u001b[1;32m    338\u001b[0m \u001b[38;5;124;03m\"\"\"\u001b[39;00m\n\u001b[1;32m    339\u001b[0m \u001b[38;5;28;01mfrom\u001b[39;00m\u001b[38;5;250m \u001b[39m\u001b[38;5;21;01msparknlp\u001b[39;00m\u001b[38;5;21;01m.\u001b[39;00m\u001b[38;5;21;01minternal\u001b[39;00m\u001b[38;5;250m \u001b[39m\u001b[38;5;28;01mimport\u001b[39;00m _GPT2Loader\n\u001b[0;32m--> 340\u001b[0m jModel \u001b[38;5;241m=\u001b[39m \u001b[43m_GPT2Loader\u001b[49m\u001b[43m(\u001b[49m\u001b[43mfolder\u001b[49m\u001b[43m,\u001b[49m\u001b[43m \u001b[49m\u001b[43mspark_session\u001b[49m\u001b[38;5;241;43m.\u001b[39;49m\u001b[43m_jsparkSession\u001b[49m\u001b[43m)\u001b[49m\u001b[38;5;241m.\u001b[39m_java_obj\n\u001b[1;32m    341\u001b[0m \u001b[38;5;28;01mreturn\u001b[39;00m GPT2Transformer(java_model\u001b[38;5;241m=\u001b[39mjModel)\n",
            "File \u001b[0;32m~/.local/lib/python3.9/site-packages/sparknlp/internal/__init__.py:269\u001b[0m, in \u001b[0;36m_GPT2Loader.__init__\u001b[0;34m(self, path, jspark)\u001b[0m\n\u001b[1;32m    268\u001b[0m \u001b[38;5;28;01mdef\u001b[39;00m\u001b[38;5;250m \u001b[39m\u001b[38;5;21m__init__\u001b[39m(\u001b[38;5;28mself\u001b[39m, path, jspark):\n\u001b[0;32m--> 269\u001b[0m     \u001b[38;5;28;43msuper\u001b[39;49m\u001b[43m(\u001b[49m\u001b[43m_GPT2Loader\u001b[49m\u001b[43m,\u001b[49m\u001b[43m \u001b[49m\u001b[38;5;28;43mself\u001b[39;49m\u001b[43m)\u001b[49m\u001b[38;5;241;43m.\u001b[39;49m\u001b[38;5;21;43m__init__\u001b[39;49m\u001b[43m(\u001b[49m\n\u001b[1;32m    270\u001b[0m \u001b[43m        \u001b[49m\u001b[38;5;124;43m\"\u001b[39;49m\u001b[38;5;124;43mcom.johnsnowlabs.nlp.annotators.seq2seq.GPT2Transformer.loadSavedModel\u001b[39;49m\u001b[38;5;124;43m\"\u001b[39;49m\u001b[43m,\u001b[49m\n\u001b[1;32m    271\u001b[0m \u001b[43m        \u001b[49m\u001b[43mpath\u001b[49m\u001b[43m,\u001b[49m\n\u001b[1;32m    272\u001b[0m \u001b[43m        \u001b[49m\u001b[43mjspark\u001b[49m\u001b[43m,\u001b[49m\n\u001b[1;32m    273\u001b[0m \u001b[43m    \u001b[49m\u001b[43m)\u001b[49m\n",
            "File \u001b[0;32m~/.local/lib/python3.9/site-packages/sparknlp/internal/extended_java_wrapper.py:27\u001b[0m, in \u001b[0;36mExtendedJavaWrapper.__init__\u001b[0;34m(self, java_obj, *args)\u001b[0m\n\u001b[1;32m     25\u001b[0m \u001b[38;5;28msuper\u001b[39m(ExtendedJavaWrapper, \u001b[38;5;28mself\u001b[39m)\u001b[38;5;241m.\u001b[39m\u001b[38;5;21m__init__\u001b[39m(java_obj)\n\u001b[1;32m     26\u001b[0m \u001b[38;5;28mself\u001b[39m\u001b[38;5;241m.\u001b[39msc \u001b[38;5;241m=\u001b[39m SparkContext\u001b[38;5;241m.\u001b[39m_active_spark_context\n\u001b[0;32m---> 27\u001b[0m \u001b[38;5;28mself\u001b[39m\u001b[38;5;241m.\u001b[39m_java_obj \u001b[38;5;241m=\u001b[39m \u001b[38;5;28;43mself\u001b[39;49m\u001b[38;5;241;43m.\u001b[39;49m\u001b[43mnew_java_obj\u001b[49m\u001b[43m(\u001b[49m\u001b[43mjava_obj\u001b[49m\u001b[43m,\u001b[49m\u001b[43m \u001b[49m\u001b[38;5;241;43m*\u001b[39;49m\u001b[43margs\u001b[49m\u001b[43m)\u001b[49m\n\u001b[1;32m     28\u001b[0m \u001b[38;5;28mself\u001b[39m\u001b[38;5;241m.\u001b[39mjava_obj \u001b[38;5;241m=\u001b[39m \u001b[38;5;28mself\u001b[39m\u001b[38;5;241m.\u001b[39m_java_obj\n",
            "File \u001b[0;32m~/.local/lib/python3.9/site-packages/sparknlp/internal/extended_java_wrapper.py:37\u001b[0m, in \u001b[0;36mExtendedJavaWrapper.new_java_obj\u001b[0;34m(self, java_class, *args)\u001b[0m\n\u001b[1;32m     36\u001b[0m \u001b[38;5;28;01mdef\u001b[39;00m\u001b[38;5;250m \u001b[39m\u001b[38;5;21mnew_java_obj\u001b[39m(\u001b[38;5;28mself\u001b[39m, java_class, \u001b[38;5;241m*\u001b[39margs):\n\u001b[0;32m---> 37\u001b[0m     \u001b[38;5;28;01mreturn\u001b[39;00m \u001b[38;5;28;43mself\u001b[39;49m\u001b[38;5;241;43m.\u001b[39;49m\u001b[43m_new_java_obj\u001b[49m\u001b[43m(\u001b[49m\u001b[43mjava_class\u001b[49m\u001b[43m,\u001b[49m\u001b[43m \u001b[49m\u001b[38;5;241;43m*\u001b[39;49m\u001b[43margs\u001b[49m\u001b[43m)\u001b[49m\n",
            "File \u001b[0;32m/opt/spark-3.5.1/python/pyspark/ml/wrapper.py:86\u001b[0m, in \u001b[0;36mJavaWrapper._new_java_obj\u001b[0;34m(java_class, *args)\u001b[0m\n\u001b[1;32m     84\u001b[0m     java_obj \u001b[38;5;241m=\u001b[39m \u001b[38;5;28mgetattr\u001b[39m(java_obj, name)\n\u001b[1;32m     85\u001b[0m java_args \u001b[38;5;241m=\u001b[39m [_py2java(sc, arg) \u001b[38;5;28;01mfor\u001b[39;00m arg \u001b[38;5;129;01min\u001b[39;00m args]\n\u001b[0;32m---> 86\u001b[0m \u001b[38;5;28;01mreturn\u001b[39;00m \u001b[43mjava_obj\u001b[49m\u001b[43m(\u001b[49m\u001b[38;5;241;43m*\u001b[39;49m\u001b[43mjava_args\u001b[49m\u001b[43m)\u001b[49m\n",
            "File \u001b[0;32m~/.local/lib/python3.9/site-packages/py4j/java_gateway.py:1321\u001b[0m, in \u001b[0;36mJavaMember.__call__\u001b[0;34m(self, *args)\u001b[0m\n\u001b[1;32m   1315\u001b[0m command \u001b[38;5;241m=\u001b[39m proto\u001b[38;5;241m.\u001b[39mCALL_COMMAND_NAME \u001b[38;5;241m+\u001b[39m\\\n\u001b[1;32m   1316\u001b[0m     \u001b[38;5;28mself\u001b[39m\u001b[38;5;241m.\u001b[39mcommand_header \u001b[38;5;241m+\u001b[39m\\\n\u001b[1;32m   1317\u001b[0m     args_command \u001b[38;5;241m+\u001b[39m\\\n\u001b[1;32m   1318\u001b[0m     proto\u001b[38;5;241m.\u001b[39mEND_COMMAND_PART\n\u001b[1;32m   1320\u001b[0m answer \u001b[38;5;241m=\u001b[39m \u001b[38;5;28mself\u001b[39m\u001b[38;5;241m.\u001b[39mgateway_client\u001b[38;5;241m.\u001b[39msend_command(command)\n\u001b[0;32m-> 1321\u001b[0m return_value \u001b[38;5;241m=\u001b[39m \u001b[43mget_return_value\u001b[49m\u001b[43m(\u001b[49m\n\u001b[1;32m   1322\u001b[0m \u001b[43m    \u001b[49m\u001b[43manswer\u001b[49m\u001b[43m,\u001b[49m\u001b[43m \u001b[49m\u001b[38;5;28;43mself\u001b[39;49m\u001b[38;5;241;43m.\u001b[39;49m\u001b[43mgateway_client\u001b[49m\u001b[43m,\u001b[49m\u001b[43m \u001b[49m\u001b[38;5;28;43mself\u001b[39;49m\u001b[38;5;241;43m.\u001b[39;49m\u001b[43mtarget_id\u001b[49m\u001b[43m,\u001b[49m\u001b[43m \u001b[49m\u001b[38;5;28;43mself\u001b[39;49m\u001b[38;5;241;43m.\u001b[39;49m\u001b[43mname\u001b[49m\u001b[43m)\u001b[49m\n\u001b[1;32m   1324\u001b[0m \u001b[38;5;28;01mfor\u001b[39;00m temp_arg \u001b[38;5;129;01min\u001b[39;00m temp_args:\n\u001b[1;32m   1325\u001b[0m     temp_arg\u001b[38;5;241m.\u001b[39m_detach()\n",
            "File \u001b[0;32m/opt/spark-3.5.1/python/pyspark/errors/exceptions/captured.py:179\u001b[0m, in \u001b[0;36mcapture_sql_exception.<locals>.deco\u001b[0;34m(*a, **kw)\u001b[0m\n\u001b[1;32m    177\u001b[0m \u001b[38;5;28;01mdef\u001b[39;00m\u001b[38;5;250m \u001b[39m\u001b[38;5;21mdeco\u001b[39m(\u001b[38;5;241m*\u001b[39ma: Any, \u001b[38;5;241m*\u001b[39m\u001b[38;5;241m*\u001b[39mkw: Any) \u001b[38;5;241m-\u001b[39m\u001b[38;5;241m>\u001b[39m Any:\n\u001b[1;32m    178\u001b[0m     \u001b[38;5;28;01mtry\u001b[39;00m:\n\u001b[0;32m--> 179\u001b[0m         \u001b[38;5;28;01mreturn\u001b[39;00m \u001b[43mf\u001b[49m\u001b[43m(\u001b[49m\u001b[38;5;241;43m*\u001b[39;49m\u001b[43ma\u001b[49m\u001b[43m,\u001b[49m\u001b[43m \u001b[49m\u001b[38;5;241;43m*\u001b[39;49m\u001b[38;5;241;43m*\u001b[39;49m\u001b[43mkw\u001b[49m\u001b[43m)\u001b[49m\n\u001b[1;32m    180\u001b[0m     \u001b[38;5;28;01mexcept\u001b[39;00m Py4JJavaError \u001b[38;5;28;01mas\u001b[39;00m e:\n\u001b[1;32m    181\u001b[0m         converted \u001b[38;5;241m=\u001b[39m convert_exception(e\u001b[38;5;241m.\u001b[39mjava_exception)\n",
            "File \u001b[0;32m~/.local/lib/python3.9/site-packages/py4j/protocol.py:326\u001b[0m, in \u001b[0;36mget_return_value\u001b[0;34m(answer, gateway_client, target_id, name)\u001b[0m\n\u001b[1;32m    324\u001b[0m value \u001b[38;5;241m=\u001b[39m OUTPUT_CONVERTER[\u001b[38;5;28mtype\u001b[39m](answer[\u001b[38;5;241m2\u001b[39m:], gateway_client)\n\u001b[1;32m    325\u001b[0m \u001b[38;5;28;01mif\u001b[39;00m answer[\u001b[38;5;241m1\u001b[39m] \u001b[38;5;241m==\u001b[39m REFERENCE_TYPE:\n\u001b[0;32m--> 326\u001b[0m     \u001b[38;5;28;01mraise\u001b[39;00m Py4JJavaError(\n\u001b[1;32m    327\u001b[0m         \u001b[38;5;124m\"\u001b[39m\u001b[38;5;124mAn error occurred while calling \u001b[39m\u001b[38;5;132;01m{0}\u001b[39;00m\u001b[38;5;132;01m{1}\u001b[39;00m\u001b[38;5;132;01m{2}\u001b[39;00m\u001b[38;5;124m.\u001b[39m\u001b[38;5;130;01m\\n\u001b[39;00m\u001b[38;5;124m\"\u001b[39m\u001b[38;5;241m.\u001b[39m\n\u001b[1;32m    328\u001b[0m         \u001b[38;5;28mformat\u001b[39m(target_id, \u001b[38;5;124m\"\u001b[39m\u001b[38;5;124m.\u001b[39m\u001b[38;5;124m\"\u001b[39m, name), value)\n\u001b[1;32m    329\u001b[0m \u001b[38;5;28;01melse\u001b[39;00m:\n\u001b[1;32m    330\u001b[0m     \u001b[38;5;28;01mraise\u001b[39;00m Py4JError(\n\u001b[1;32m    331\u001b[0m         \u001b[38;5;124m\"\u001b[39m\u001b[38;5;124mAn error occurred while calling \u001b[39m\u001b[38;5;132;01m{0}\u001b[39;00m\u001b[38;5;132;01m{1}\u001b[39;00m\u001b[38;5;132;01m{2}\u001b[39;00m\u001b[38;5;124m. Trace:\u001b[39m\u001b[38;5;130;01m\\n\u001b[39;00m\u001b[38;5;132;01m{3}\u001b[39;00m\u001b[38;5;130;01m\\n\u001b[39;00m\u001b[38;5;124m\"\u001b[39m\u001b[38;5;241m.\u001b[39m\n\u001b[1;32m    332\u001b[0m         \u001b[38;5;28mformat\u001b[39m(target_id, \u001b[38;5;124m\"\u001b[39m\u001b[38;5;124m.\u001b[39m\u001b[38;5;124m\"\u001b[39m, name, value))\n",
            "\u001b[0;31mPy4JJavaError\u001b[0m: An error occurred while calling z:com.johnsnowlabs.nlp.annotators.seq2seq.GPT2Transformer.loadSavedModel.\n: java.lang.UnsatisfiedLinkError: 'long org.intel.openvino.Core.GetCore()'\n\tat org.intel.openvino.Core.GetCore(Native Method)\n\tat org.intel.openvino.Core.<init>(Core.java:22)\n\tat com.johnsnowlabs.ml.openvino.OpenvinoWrapper$.liftedTree1$1(OpenvinoWrapper.scala:79)\n\tat com.johnsnowlabs.ml.openvino.OpenvinoWrapper$.<init>(OpenvinoWrapper.scala:78)\n\tat com.johnsnowlabs.ml.openvino.OpenvinoWrapper$.<clinit>(OpenvinoWrapper.scala)\n\tat com.johnsnowlabs.nlp.annotators.seq2seq.ReadGPT2TransformerDLModel.loadSavedModel(GPT2Transformer.scala:614)\n\tat com.johnsnowlabs.nlp.annotators.seq2seq.ReadGPT2TransformerDLModel.loadSavedModel$(GPT2Transformer.scala:571)\n\tat com.johnsnowlabs.nlp.annotators.seq2seq.GPT2Transformer$.loadSavedModel(GPT2Transformer.scala:632)\n\tat com.johnsnowlabs.nlp.annotators.seq2seq.GPT2Transformer.loadSavedModel(GPT2Transformer.scala)\n\tat java.base/jdk.internal.reflect.NativeMethodAccessorImpl.invoke0(Native Method)\n\tat java.base/jdk.internal.reflect.NativeMethodAccessorImpl.invoke(NativeMethodAccessorImpl.java:62)\n\tat java.base/jdk.internal.reflect.DelegatingMethodAccessorImpl.invoke(DelegatingMethodAccessorImpl.java:43)\n\tat java.base/java.lang.reflect.Method.invoke(Method.java:566)\n\tat py4j.reflection.MethodInvoker.invoke(MethodInvoker.java:244)\n\tat py4j.reflection.ReflectionEngine.invoke(ReflectionEngine.java:374)\n\tat py4j.Gateway.invoke(Gateway.java:282)\n\tat py4j.commands.AbstractCommand.invokeMethod(AbstractCommand.java:132)\n\tat py4j.commands.CallCommand.execute(CallCommand.java:79)\n\tat py4j.ClientServerConnection.waitForCommands(ClientServerConnection.java:182)\n\tat py4j.ClientServerConnection.run(ClientServerConnection.java:106)\n\tat java.base/java.lang.Thread.run(Thread.java:829)\n"
          ]
        }
      ],
      "source": [
        "from sparknlp.annotator import *\n",
        "\n",
        "gpt2 = GPT2Transformer.loadSavedModel(EXPORT_PATH, spark)\\\n",
        "  .setInputCols([\"documents\"])\\\n",
        "  .setMaxOutputLength(50)\\\n",
        "  .setDoSample(True)\\\n",
        "  .setTopK(50)\\\n",
        "  .setTemperature(0)\\\n",
        "  .setBatchSize(5)\\\n",
        "  .setNoRepeatNgramSize(3)\\\n",
        "  .setOutputCol(\"generation\")"
      ]
    },
    {
      "cell_type": "markdown",
      "metadata": {
        "id": "v_eeGHNZS-JM"
      },
      "source": [
        "Let's save it on disk so it is easier to be moved around and also be used later via `.load` function"
      ]
    },
    {
      "cell_type": "code",
      "execution_count": null,
      "metadata": {
        "id": "0rmW0bXLS-JM"
      },
      "outputs": [],
      "source": [
        "gpt2.write().overwrite().save(f\"{MODEL_NAME}_spark_nlp\")"
      ]
    },
    {
      "cell_type": "markdown",
      "metadata": {
        "id": "VnmGJlakS-JM"
      },
      "source": [
        "Let's clean up stuff we don't need anymore"
      ]
    },
    {
      "cell_type": "code",
      "execution_count": null,
      "metadata": {
        "id": "kWkdSCjIS-JN"
      },
      "outputs": [],
      "source": [
        "!rm -rf {EXPORT_PATH}"
      ]
    },
    {
      "cell_type": "markdown",
      "metadata": {
        "id": "I9YtKl-aS-JN"
      },
      "source": [
        "Awesome  😎 !\n",
        "\n",
        "This is your Openvino GPT2 model from HuggingFace 🤗  loaded and saved by Spark NLP 🚀"
      ]
    },
    {
      "cell_type": "code",
      "execution_count": null,
      "metadata": {
        "colab": {
          "base_uri": "https://localhost:8080/"
        },
        "id": "9nbzEjwWS-JN",
        "outputId": "4b20ba7c-41c5-440f-89c8-fd4e6a0ec541"
      },
      "outputs": [
        {
          "name": "stdout",
          "output_type": "stream",
          "text": [
            "total 487664\n",
            "drwxr-xr-x 4 root root      4096 Sep  7 19:43 fields\n",
            "-rw-r--r-- 1 root root 499355270 Sep  7 19:44 gpt2_onnx\n",
            "drwxr-xr-x 2 root root      4096 Sep  7 19:43 metadata\n"
          ]
        }
      ],
      "source": [
        "! ls -l {MODEL_NAME}_spark_nlp"
      ]
    },
    {
      "cell_type": "markdown",
      "metadata": {
        "id": "lcNqKR7mS-JN"
      },
      "source": [
        "Now let's see how we can use it on other machines, clusters, or any place you wish to use your new and shiny GPT2 model 😊"
      ]
    },
    {
      "cell_type": "code",
      "execution_count": null,
      "metadata": {
        "colab": {
          "base_uri": "https://localhost:8080/"
        },
        "id": "DZyaiumUS-JN",
        "outputId": "d7db52cb-b85d-4d9a-fd94-24e5b0af7f4b"
      },
      "outputs": [
        {
          "name": "stdout",
          "output_type": "stream",
          "text": [
            "+-------------------------------------------------------------------------------------------------------------------------------------------------------------------------------------------------------------------------------------------------------------------------------------------------------------------------------------------------------------------------------------------------------------------------------------------------------------------------------------------------------------------------------------------------------------------------------------------------------------------------------------------------------------------------------------------------------------------------------------------------------------------------------------------------------------------------------------------------------------------------------------------------------------------------------------------------------------------------------------------------------------------------------------------------+---------------------------------------------------------------------------------------------------------------------------------------------------------------------------------------------------------------------------------------------------------------------------------------------------------------------------------------------------------------------------------------------------------------------------------------------------------------------------------------------------------------------------------------------------------------------------------------------------------------------------------------------------------------------------------------------------------------------------------------------------------------------------------------------------------------------------------------------------------------------------------------------------------------------------------------------------------------------------------------------------------------------------------------------------------------------------------------------+---------------------------------------------------------------------------------------------------------------------------------------------------------------------------------------------------------------------------------------------------------------------------------------------------------------------------------------------------------------------------------------------------------------------------------------------------------------------------------------------------------------------------------------------------------------------------------------------------------------------------------------------------------------------------------------------------------------------------------------------------------------------------------------------------------------------------------------------------------------------------------------------------------------------------------------------------------------------------------------------------------------------------------------------------------------------------------------------------+\n",
            "|text                                                                                                                                                                                                                                                                                                                                                                                                                                                                                                                                                                                                                                                                                                                                                                                                                                                                                                                                                                                                                                             |document                                                                                                                                                                                                                                                                                                                                                                                                                                                                                                                                                                                                                                                                                                                                                                                                                                                                                                                                                                                                                                                                                     |generation                                                                                                                                                                                                                                                                                                                                                                                                                                                                                                                                                                                                                                                                                                                                                                                                                                                                                                                                                                                                                                                                                         |\n",
            "+-------------------------------------------------------------------------------------------------------------------------------------------------------------------------------------------------------------------------------------------------------------------------------------------------------------------------------------------------------------------------------------------------------------------------------------------------------------------------------------------------------------------------------------------------------------------------------------------------------------------------------------------------------------------------------------------------------------------------------------------------------------------------------------------------------------------------------------------------------------------------------------------------------------------------------------------------------------------------------------------------------------------------------------------------+---------------------------------------------------------------------------------------------------------------------------------------------------------------------------------------------------------------------------------------------------------------------------------------------------------------------------------------------------------------------------------------------------------------------------------------------------------------------------------------------------------------------------------------------------------------------------------------------------------------------------------------------------------------------------------------------------------------------------------------------------------------------------------------------------------------------------------------------------------------------------------------------------------------------------------------------------------------------------------------------------------------------------------------------------------------------------------------------+---------------------------------------------------------------------------------------------------------------------------------------------------------------------------------------------------------------------------------------------------------------------------------------------------------------------------------------------------------------------------------------------------------------------------------------------------------------------------------------------------------------------------------------------------------------------------------------------------------------------------------------------------------------------------------------------------------------------------------------------------------------------------------------------------------------------------------------------------------------------------------------------------------------------------------------------------------------------------------------------------------------------------------------------------------------------------------------------------+\n",
            "|Transfer learning, where a model is first pre-trained on a data-rich task before being fine-tuned on a downstream task, has emerged as a powerful technique in natural language processing (NLP). The effectiveness of transfer learning has given rise to a diversity of approaches, methodology, and practice. In this paper, we explore the landscape of transfer learning techniques for NLP by introducing a unified framework that converts all text-based language problems into a text-to-text format. Our systematic study compares pre-training objectives, architectures, unlabeled data sets, transfer approaches, and other factors on dozens of language understanding tasks. By combining the insights from our exploration with scale and our new Colossal Clean Crawled Corpus, we achieve state-of-the-art results on many benchmarks covering summarization, question answering, text classification, and more. To facilitate future work on transfer learning for NLP, we release our data set, pre-trained models, and code.|[{document, 0, 1008, Transfer learning, where a model is first pre-trained on a data-rich task before being fine-tuned on a downstream task, has emerged as a powerful technique in natural language processing (NLP). The effectiveness of transfer learning has given rise to a diversity of approaches, methodology, and practice. In this paper, we explore the landscape of transfer learning techniques for NLP by introducing a unified framework that converts all text-based language problems into a text-to-text format. Our systematic study compares pre-training objectives, architectures, unlabeled data sets, transfer approaches, and other factors on dozens of language understanding tasks. By combining the insights from our exploration with scale and our new Colossal Clean Crawled Corpus, we achieve state-of-the-art results on many benchmarks covering summarization, question answering, text classification, and more. To facilitate future work on transfer learning for NLP, we release our data set, pre-trained models, and code., {sentence -> 0}, []}]|[{document, 0, 1014,  Transfer learning, where a model is first pre-trained on a data-rich task before being fine-tuned on a downstream task, has emerged as a powerful technique in natural language processing (NLP). The effectiveness of transfer learning has given rise to a diversity of approaches, methodology, and practice. In this paper, we explore the landscape of transfer learning techniques for NLP by introducing a unified framework that converts all text-based language problems into a text-to-text format. Our systematic study compares pre-training objectives, architectures, unlabeled data sets, transfer approaches, and other factors on dozens of language understanding tasks. By combining the insights from our exploration with scale and our new Colossal Clean Crawled Corpus, we achieve state-of-the-art results on many benchmarks covering summarization, question answering, text classification, and more. To facilitate future work on transfer learning for NLP, we release our data set, pre-trained models, and code. Full, {sentence -> 0}, []}]|\n",
            "+-------------------------------------------------------------------------------------------------------------------------------------------------------------------------------------------------------------------------------------------------------------------------------------------------------------------------------------------------------------------------------------------------------------------------------------------------------------------------------------------------------------------------------------------------------------------------------------------------------------------------------------------------------------------------------------------------------------------------------------------------------------------------------------------------------------------------------------------------------------------------------------------------------------------------------------------------------------------------------------------------------------------------------------------------+---------------------------------------------------------------------------------------------------------------------------------------------------------------------------------------------------------------------------------------------------------------------------------------------------------------------------------------------------------------------------------------------------------------------------------------------------------------------------------------------------------------------------------------------------------------------------------------------------------------------------------------------------------------------------------------------------------------------------------------------------------------------------------------------------------------------------------------------------------------------------------------------------------------------------------------------------------------------------------------------------------------------------------------------------------------------------------------------+---------------------------------------------------------------------------------------------------------------------------------------------------------------------------------------------------------------------------------------------------------------------------------------------------------------------------------------------------------------------------------------------------------------------------------------------------------------------------------------------------------------------------------------------------------------------------------------------------------------------------------------------------------------------------------------------------------------------------------------------------------------------------------------------------------------------------------------------------------------------------------------------------------------------------------------------------------------------------------------------------------------------------------------------------------------------------------------------------+\n",
            "\n"
          ]
        }
      ],
      "source": [
        "import sparknlp\n",
        "from sparknlp.base import *\n",
        "from sparknlp.annotator import *\n",
        "from pyspark.ml import Pipeline\n",
        "\n",
        "test_data = spark.createDataFrame([\n",
        "    [\"Transfer learning, where a model is first pre-trained on a data-rich task before being fine-tuned on a \" +\n",
        "       \"downstream task, has emerged as a powerful technique in natural language processing (NLP). The effectiveness\" +\n",
        "       \" of transfer learning has given rise to a diversity of approaches, methodology, and practice. In this \" +\n",
        "       \"paper, we explore the landscape of transfer learning techniques for NLP by introducing a unified framework \" +\n",
        "       \"that converts all text-based language problems into a text-to-text format. Our systematic study compares \" +\n",
        "       \"pre-training objectives, architectures, unlabeled data sets, transfer approaches, and other factors on dozens \" +\n",
        "       \"of language understanding tasks. By combining the insights from our exploration with scale and our new \" +\n",
        "       \"Colossal Clean Crawled Corpus, we achieve state-of-the-art results on many benchmarks covering \" +\n",
        "       \"summarization, question answering, text classification, and more. To facilitate future work on transfer \" +\n",
        "       \"learning for NLP, we release our data set, pre-trained models, and code.\"]\n",
        "]).toDF(\"text\")\n",
        "\n",
        "\n",
        "document_assembler = DocumentAssembler() \\\n",
        "    .setInputCol(\"text\")\\\n",
        "    .setOutputCol(\"document\")\n",
        "\n",
        "gpt2 = GPT2Transformer.load(f\"{MODEL_NAME}_spark_nlp\")\\\n",
        "      .setInputCols([\"document\"])\\\n",
        "      .setMaxOutputLength(50)\\\n",
        "      .setDoSample(True)\\\n",
        "      .setTopK(50)\\\n",
        "      .setTemperature(0)\\\n",
        "      .setBatchSize(5)\\\n",
        "      .setNoRepeatNgramSize(3)\\\n",
        "      .setOutputCol(\"generation\")\n",
        "\n",
        "pipeline = Pipeline().setStages([document_assembler, gpt2])\n",
        "\n",
        "result = pipeline.fit(test_data).transform(test_data)\n",
        "result.show(truncate=False)"
      ]
    },
    {
      "cell_type": "markdown",
      "metadata": {
        "id": "uTnIQ3HKS-JN"
      },
      "source": [
        "That's it! You can now go wild and use hundreds of GPT2 models from HuggingFace 🤗 in Spark NLP 🚀\n"
      ]
    }
  ],
  "metadata": {
    "colab": {
      "provenance": []
    },
    "kernelspec": {
      "display_name": "Python 3",
      "language": "python",
      "name": "python3"
    },
    "language_info": {
      "codemirror_mode": {
        "name": "ipython",
        "version": 3
      },
      "file_extension": ".py",
      "mimetype": "text/x-python",
      "name": "python",
      "nbconvert_exporter": "python",
      "pygments_lexer": "ipython3",
      "version": "3.9.5"
    }
  },
  "nbformat": 4,
  "nbformat_minor": 0
}
